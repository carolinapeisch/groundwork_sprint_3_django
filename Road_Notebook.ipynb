{
 "cells": [
  {
   "cell_type": "code",
   "execution_count": 2,
   "metadata": {
    "collapsed": false
   },
   "outputs": [],
   "source": [
    "import pandas as pd\n",
    "import numpy as np\n",
    "import warnings\n",
    "\n",
    "pd.options.display.float_format = '{:.4f}'.format"
   ]
  },
  {
   "cell_type": "code",
   "execution_count": 3,
   "metadata": {
    "collapsed": false
   },
   "outputs": [],
   "source": [
    "def data_cleaning(csv):\n",
    "    df = pd.read_csv(csv, low_memory=False)\n",
    "    df = df[['street_nam', 'mgis_town', 'surfacetyp', 'surfacewid', 'assignedle', 'routesyste']]\n",
    "    # converting assignedle to feet (currently in miles)\n",
    "    df['assignedle_feet'] = df['assignedle'] * 5280\n",
    "    df.drop('assignedle', axis=1, inplace=True)\n",
    "    return df\n",
    "\n",
    "def city_geometry(df, city_name, exclude_highways=True):\n",
    "    city_df = df[(df.mgis_town == city_name)]\n",
    "    if exclude_highways:\n",
    "        city_df = city_df.loc[city_df['routesyste'] != \"SR\"]\n",
    "        city_df = city_df.loc[city_df['routesyste'] != \"US\"]\n",
    "        city_df = city_df.loc[city_df['routesyste'] != \"I\"]\n",
    "    city_df.loc[city_df[\"surfacewid\"]==0,\"surfacewid\"] = 24\n",
    "    city_df[\"surface_area\"] = city_df[\"assignedle_feet\"]*city_df[\"surfacewid\"]\n",
    "    return city_df\n",
    "\n",
    "def get_asphalt_concrete(df):\n",
    "    asph = 0\n",
    "    conc = 0\n",
    "    asph_idx = set([0,2,3,4,5,7])\n",
    "    conc_idx = set([6,8,9,10])\n",
    "    df_surface_types = df.groupby(['surfacetyp'])['surface_area'].sum().reset_index()\n",
    "    for i in range(len(df_surface_types)):\n",
    "        if df_surface_types.iloc[i][\"surfacetyp\"] in asph_idx:\n",
    "            asph+=df_surface_types.iloc[i][\"surface_area\"]\n",
    "        elif df_surface_types.iloc[i][\"surfacetyp\"] in conc_idx:\n",
    "            conc+=df_surface_types.iloc[i][\"surface_area\"]\n",
    "    return asph,conc\n",
    "    \n",
    "def get_road_areas(city_name):\n",
    "    city_name = city_name.upper()\n",
    "    df = data_cleaning('./MASS_DOT_roads.csv')\n",
    "    cgeom = city_geometry(df, city_name)\n",
    "    asphalt_area, concrete_area = get_asphalt_concrete(cgeom)\n",
    "    total_area = cgeom['surface_area'].sum()\n",
    "    return asphalt_area,concrete_area,total_area"
   ]
  },
  {
   "cell_type": "code",
   "execution_count": 6,
   "metadata": {
    "collapsed": false
   },
   "outputs": [
    {
     "name": "stdout",
     "output_type": "stream",
     "text": [
      "ASPHALT AREA: 14188124.544\n",
      "CONCRETE AREA: 68261919.264\n",
      "TOTAL AREA: 82459864.608\n"
     ]
    }
   ],
   "source": [
    "asphalt_area,concrete_area,total_area = get_road_areas('springfield')\n",
    "print \"ASPHALT AREA: {}\".format(asphalt_area)\n",
    "print \"CONCRETE AREA: {}\".format(concrete_area)\n",
    "print \"TOTAL AREA: {}\".format(total_area)"
   ]
  },
  {
   "cell_type": "code",
   "execution_count": 26,
   "metadata": {
    "collapsed": false
   },
   "outputs": [],
   "source": [
    "def sanity_check(city_name, nohighways=False):\n",
    "    city_name = city_name.upper()\n",
    "    df = data_cleaning('./MASS_DOT_roads.csv')\n",
    "    cgeom = city_geometry(df, city_name, exclude_highways=nohighways)\n",
    "    df_surface_types = cgeom.groupby(['surfacetyp'])['surface_area'].sum().reset_index()\n",
    "    \n",
    "    # get material indices\n",
    "    asph_idx = [0,6]\n",
    "    conc_idx = [7]\n",
    "    other_idx = [1,2,3,4,5,8,9,10]\n",
    "    \n",
    "    # initialize text\n",
    "    asphalt_text = \"\"\n",
    "    concrete_text = \"\"\n",
    "    other_text = \"\"\n",
    "    \n",
    "    # initialize areas\n",
    "    total_asphalt = 0\n",
    "    total_concrete = 0\n",
    "    total_other = 0\n",
    "    \n",
    "    print \"ASPHALT INDICES: {}\".format(asph_idx)\n",
    "    print \"CONCRETE INDICES: {}\".format(conc_idx)\n",
    "    print \"OTHER INDICES: {}\".format(other_idx)\n",
    "    print \"\"\n",
    "    \n",
    "    # iterate through dataframe\n",
    "    for i in range(len(df_surface_types)):\n",
    "        if df_surface_types.iloc[i][\"surfacetyp\"] in asph_idx:\n",
    "            area = df_surface_types.iloc[i][\"surface_area\"]\n",
    "            total_asphalt += area\n",
    "            asphalt_text += \"        {}: {:,}\\n\".format(int(df_surface_types.iloc[i][\"surfacetyp\"]), area)\n",
    "        if df_surface_types.iloc[i][\"surfacetyp\"] in conc_idx:\n",
    "            area = df_surface_types.iloc[i][\"surface_area\"]\n",
    "            total_concrete += area\n",
    "            concrete_text += \"        {}: {:,}\\n\".format(int(df_surface_types.iloc[i][\"surfacetyp\"]), area)\n",
    "        if df_surface_types.iloc[i][\"surfacetyp\"] in other_idx:\n",
    "            area = df_surface_types.iloc[i][\"surface_area\"]\n",
    "            total_other += area\n",
    "            other_text += \"        {}: {:,}\\n\".format(int(df_surface_types.iloc[i][\"surfacetyp\"]), area)\n",
    "    \n",
    "    # print results\n",
    "    print \"CITY: {}\".format(city_name)\n",
    "    print \"    ASPHALT ROADS: {:,}\".format(total_asphalt)\n",
    "    print asphalt_text.rstrip()\n",
    "    print \"    CONCRETE ROADS: {:,}\".format(total_concrete)\n",
    "    print concrete_text.rstrip()\n",
    "    print \"    OTHER ROADS: {:,}\".format(total_other)\n",
    "    print other_text.rstrip()\n",
    "    \n",
    "    print \"\"\n",
    "    \n",
    "    print(df_surface_types.to_string())"
   ]
  },
  {
   "cell_type": "code",
   "execution_count": 27,
   "metadata": {
    "collapsed": false
   },
   "outputs": [
    {
     "name": "stdout",
     "output_type": "stream",
     "text": [
      "ASPHALT INDICES: [0, 6]\n",
      "CONCRETE INDICES: [7]\n",
      "OTHER INDICES: [1, 2, 3, 4, 5, 8, 9, 10]\n",
      "\n",
      "CITY: SPRINGFIELD\n",
      "    ASPHALT ROADS: 82,101,166.752\n",
      "        0: 6,707,733.12\n",
      "        6: 75,393,433.632\n",
      "    CONCRETE ROADS: 73,849.248\n",
      "        7: 73,849.248\n",
      "    OTHER ROADS: 7,557,743.424\n",
      "        1: 9,820.8\n",
      "        2: 2,102,525.04\n",
      "        4: 5,385.6\n",
      "        5: 5,372,480.784\n",
      "        8: 67,531.2\n",
      "\n",
      "   surfacetyp  surface_area\n",
      "0           0  6707733.1200\n",
      "1           1     9820.8000\n",
      "2           2  2102525.0400\n",
      "3           4     5385.6000\n",
      "4           5  5372480.7840\n",
      "5           6 75393433.6320\n",
      "6           7    73849.2480\n",
      "7           8    67531.2000\n"
     ]
    },
    {
     "name": "stderr",
     "output_type": "stream",
     "text": [
      "/Users/AleoMok/anaconda/envs/python2/lib/python2.7/site-packages/ipykernel/__main__.py:16: SettingWithCopyWarning: \n",
      "A value is trying to be set on a copy of a slice from a DataFrame.\n",
      "Try using .loc[row_indexer,col_indexer] = value instead\n",
      "\n",
      "See the caveats in the documentation: http://pandas.pydata.org/pandas-docs/stable/indexing.html#indexing-view-versus-copy\n"
     ]
    }
   ],
   "source": [
    "sanity_check('springfield')\n",
    "# sanity_check('wellesley')\n",
    "# sanity_check('pittsfield')\n",
    "# sanity_check('salem')"
   ]
  },
  {
   "cell_type": "code",
   "execution_count": 7,
   "metadata": {
    "collapsed": false
   },
   "outputs": [
    {
     "name": "stdout",
     "output_type": "stream",
     "text": [
      "CITY: SPRINGFIELD\n"
     ]
    },
    {
     "ename": "NameError",
     "evalue": "global name 'highways' is not defined",
     "output_type": "error",
     "traceback": [
      "\u001b[0;31m---------------------------------------------------------------------------\u001b[0m",
      "\u001b[0;31mNameError\u001b[0m                                 Traceback (most recent call last)",
      "\u001b[0;32m<ipython-input-7-23a80d2b0939>\u001b[0m in \u001b[0;36m<module>\u001b[0;34m()\u001b[0m\n\u001b[0;32m----> 1\u001b[0;31m \u001b[0msanity_check\u001b[0m\u001b[0;34m(\u001b[0m\u001b[0;34m'springfield'\u001b[0m\u001b[0;34m,\u001b[0m \u001b[0mnohighways\u001b[0m\u001b[0;34m=\u001b[0m\u001b[0mFalse\u001b[0m\u001b[0;34m)\u001b[0m\u001b[0;34m\u001b[0m\u001b[0m\n\u001b[0m\u001b[1;32m      2\u001b[0m \u001b[0msanity_check\u001b[0m\u001b[0;34m(\u001b[0m\u001b[0;34m'wellesley'\u001b[0m\u001b[0;34m,\u001b[0m \u001b[0mnohighways\u001b[0m\u001b[0;34m=\u001b[0m\u001b[0mFalse\u001b[0m\u001b[0;34m)\u001b[0m\u001b[0;34m\u001b[0m\u001b[0m\n\u001b[1;32m      3\u001b[0m \u001b[0msanity_check\u001b[0m\u001b[0;34m(\u001b[0m\u001b[0;34m'pittsfield'\u001b[0m\u001b[0;34m,\u001b[0m \u001b[0mnohighways\u001b[0m\u001b[0;34m=\u001b[0m\u001b[0mFalse\u001b[0m\u001b[0;34m)\u001b[0m\u001b[0;34m\u001b[0m\u001b[0m\n\u001b[1;32m      4\u001b[0m \u001b[0msanity_check\u001b[0m\u001b[0;34m(\u001b[0m\u001b[0;34m'salem'\u001b[0m\u001b[0;34m,\u001b[0m \u001b[0mnohighways\u001b[0m\u001b[0;34m=\u001b[0m\u001b[0mFalse\u001b[0m\u001b[0;34m)\u001b[0m\u001b[0;34m\u001b[0m\u001b[0m\n",
      "\u001b[0;32m<ipython-input-6-9681d1b11c5f>\u001b[0m in \u001b[0;36msanity_check\u001b[0;34m(city_name, nohighways)\u001b[0m\n\u001b[1;32m      3\u001b[0m     \u001b[0;32mprint\u001b[0m \u001b[0;34m\"CITY: {}\"\u001b[0m\u001b[0;34m.\u001b[0m\u001b[0mformat\u001b[0m\u001b[0;34m(\u001b[0m\u001b[0mcity_name\u001b[0m\u001b[0;34m)\u001b[0m\u001b[0;34m\u001b[0m\u001b[0m\n\u001b[1;32m      4\u001b[0m     \u001b[0mdf\u001b[0m \u001b[0;34m=\u001b[0m \u001b[0mdata_cleaning\u001b[0m\u001b[0;34m(\u001b[0m\u001b[0;34m'./MASS_DOT_roads.csv'\u001b[0m\u001b[0;34m)\u001b[0m\u001b[0;34m\u001b[0m\u001b[0m\n\u001b[0;32m----> 5\u001b[0;31m     \u001b[0mcgeom\u001b[0m \u001b[0;34m=\u001b[0m \u001b[0mcity_geometry\u001b[0m\u001b[0;34m(\u001b[0m\u001b[0mdf\u001b[0m\u001b[0;34m,\u001b[0m \u001b[0mcity_name\u001b[0m\u001b[0;34m,\u001b[0m \u001b[0mexclude_highways\u001b[0m\u001b[0;34m=\u001b[0m\u001b[0mhighways\u001b[0m\u001b[0;34m)\u001b[0m\u001b[0;34m\u001b[0m\u001b[0m\n\u001b[0m\u001b[1;32m      6\u001b[0m     \u001b[0mdf_surface_types\u001b[0m \u001b[0;34m=\u001b[0m \u001b[0mcgeom\u001b[0m\u001b[0;34m.\u001b[0m\u001b[0mgroupby\u001b[0m\u001b[0;34m(\u001b[0m\u001b[0;34m[\u001b[0m\u001b[0;34m'surfacetyp'\u001b[0m\u001b[0;34m]\u001b[0m\u001b[0;34m)\u001b[0m\u001b[0;34m[\u001b[0m\u001b[0;34m'surface_area'\u001b[0m\u001b[0;34m]\u001b[0m\u001b[0;34m.\u001b[0m\u001b[0msum\u001b[0m\u001b[0;34m(\u001b[0m\u001b[0;34m)\u001b[0m\u001b[0;34m.\u001b[0m\u001b[0mreset_index\u001b[0m\u001b[0;34m(\u001b[0m\u001b[0;34m)\u001b[0m\u001b[0;34m\u001b[0m\u001b[0m\n\u001b[1;32m      7\u001b[0m     \u001b[0masph_idx\u001b[0m \u001b[0;34m=\u001b[0m \u001b[0mset\u001b[0m\u001b[0;34m(\u001b[0m\u001b[0;34m[\u001b[0m\u001b[0;36m0\u001b[0m\u001b[0;34m,\u001b[0m\u001b[0;36m1\u001b[0m\u001b[0;34m,\u001b[0m\u001b[0;36m2\u001b[0m\u001b[0;34m,\u001b[0m\u001b[0;36m3\u001b[0m\u001b[0;34m,\u001b[0m\u001b[0;36m4\u001b[0m\u001b[0;34m,\u001b[0m\u001b[0;36m5\u001b[0m\u001b[0;34m,\u001b[0m\u001b[0;36m6\u001b[0m\u001b[0;34m,\u001b[0m\u001b[0;36m8\u001b[0m\u001b[0;34m,\u001b[0m\u001b[0;36m9\u001b[0m\u001b[0;34m,\u001b[0m\u001b[0;36m10\u001b[0m\u001b[0;34m]\u001b[0m\u001b[0;34m)\u001b[0m\u001b[0;34m\u001b[0m\u001b[0m\n",
      "\u001b[0;31mNameError\u001b[0m: global name 'highways' is not defined"
     ]
    }
   ],
   "source": [
    "# sanity_check('springfield', nohighways=False)\n",
    "# sanity_check('wellesley', nohighways=False)\n",
    "# sanity_check('pittsfield', nohighways=False)\n",
    "# sanity_check('salem', nohighways=False)"
   ]
  },
  {
   "cell_type": "code",
   "execution_count": 8,
   "metadata": {
    "collapsed": false
   },
   "outputs": [
    {
     "name": "stdout",
     "output_type": "stream",
     "text": [
      "CITY: SPRINGFIELD\n"
     ]
    },
    {
     "ename": "NameError",
     "evalue": "global name 'highways' is not defined",
     "output_type": "error",
     "traceback": [
      "\u001b[0;31m---------------------------------------------------------------------------\u001b[0m",
      "\u001b[0;31mNameError\u001b[0m                                 Traceback (most recent call last)",
      "\u001b[0;32m<ipython-input-8-f539ddebc5bd>\u001b[0m in \u001b[0;36m<module>\u001b[0;34m()\u001b[0m\n\u001b[0;32m----> 1\u001b[0;31m \u001b[0msanity_check\u001b[0m\u001b[0;34m(\u001b[0m\u001b[0;34m'springfield'\u001b[0m\u001b[0;34m,\u001b[0m \u001b[0mnohighways\u001b[0m\u001b[0;34m=\u001b[0m\u001b[0mTrue\u001b[0m\u001b[0;34m)\u001b[0m\u001b[0;34m\u001b[0m\u001b[0m\n\u001b[0m\u001b[1;32m      2\u001b[0m \u001b[0msanity_check\u001b[0m\u001b[0;34m(\u001b[0m\u001b[0;34m'springfield'\u001b[0m\u001b[0;34m,\u001b[0m \u001b[0mnohighways\u001b[0m\u001b[0;34m=\u001b[0m\u001b[0mFalse\u001b[0m\u001b[0;34m)\u001b[0m\u001b[0;34m\u001b[0m\u001b[0m\n",
      "\u001b[0;32m<ipython-input-6-9681d1b11c5f>\u001b[0m in \u001b[0;36msanity_check\u001b[0;34m(city_name, nohighways)\u001b[0m\n\u001b[1;32m      3\u001b[0m     \u001b[0;32mprint\u001b[0m \u001b[0;34m\"CITY: {}\"\u001b[0m\u001b[0;34m.\u001b[0m\u001b[0mformat\u001b[0m\u001b[0;34m(\u001b[0m\u001b[0mcity_name\u001b[0m\u001b[0;34m)\u001b[0m\u001b[0;34m\u001b[0m\u001b[0m\n\u001b[1;32m      4\u001b[0m     \u001b[0mdf\u001b[0m \u001b[0;34m=\u001b[0m \u001b[0mdata_cleaning\u001b[0m\u001b[0;34m(\u001b[0m\u001b[0;34m'./MASS_DOT_roads.csv'\u001b[0m\u001b[0;34m)\u001b[0m\u001b[0;34m\u001b[0m\u001b[0m\n\u001b[0;32m----> 5\u001b[0;31m     \u001b[0mcgeom\u001b[0m \u001b[0;34m=\u001b[0m \u001b[0mcity_geometry\u001b[0m\u001b[0;34m(\u001b[0m\u001b[0mdf\u001b[0m\u001b[0;34m,\u001b[0m \u001b[0mcity_name\u001b[0m\u001b[0;34m,\u001b[0m \u001b[0mexclude_highways\u001b[0m\u001b[0;34m=\u001b[0m\u001b[0mhighways\u001b[0m\u001b[0;34m)\u001b[0m\u001b[0;34m\u001b[0m\u001b[0m\n\u001b[0m\u001b[1;32m      6\u001b[0m     \u001b[0mdf_surface_types\u001b[0m \u001b[0;34m=\u001b[0m \u001b[0mcgeom\u001b[0m\u001b[0;34m.\u001b[0m\u001b[0mgroupby\u001b[0m\u001b[0;34m(\u001b[0m\u001b[0;34m[\u001b[0m\u001b[0;34m'surfacetyp'\u001b[0m\u001b[0;34m]\u001b[0m\u001b[0;34m)\u001b[0m\u001b[0;34m[\u001b[0m\u001b[0;34m'surface_area'\u001b[0m\u001b[0;34m]\u001b[0m\u001b[0;34m.\u001b[0m\u001b[0msum\u001b[0m\u001b[0;34m(\u001b[0m\u001b[0;34m)\u001b[0m\u001b[0;34m.\u001b[0m\u001b[0mreset_index\u001b[0m\u001b[0;34m(\u001b[0m\u001b[0;34m)\u001b[0m\u001b[0;34m\u001b[0m\u001b[0m\n\u001b[1;32m      7\u001b[0m     \u001b[0masph_idx\u001b[0m \u001b[0;34m=\u001b[0m \u001b[0mset\u001b[0m\u001b[0;34m(\u001b[0m\u001b[0;34m[\u001b[0m\u001b[0;36m0\u001b[0m\u001b[0;34m,\u001b[0m\u001b[0;36m1\u001b[0m\u001b[0;34m,\u001b[0m\u001b[0;36m2\u001b[0m\u001b[0;34m,\u001b[0m\u001b[0;36m3\u001b[0m\u001b[0;34m,\u001b[0m\u001b[0;36m4\u001b[0m\u001b[0;34m,\u001b[0m\u001b[0;36m5\u001b[0m\u001b[0;34m,\u001b[0m\u001b[0;36m6\u001b[0m\u001b[0;34m,\u001b[0m\u001b[0;36m8\u001b[0m\u001b[0;34m,\u001b[0m\u001b[0;36m9\u001b[0m\u001b[0;34m,\u001b[0m\u001b[0;36m10\u001b[0m\u001b[0;34m]\u001b[0m\u001b[0;34m)\u001b[0m\u001b[0;34m\u001b[0m\u001b[0m\n",
      "\u001b[0;31mNameError\u001b[0m: global name 'highways' is not defined"
     ]
    }
   ],
   "source": [
    "# sanity_check('springfield', nohighways=True)\n",
    "# sanity_check('springfield', nohighways=False)"
   ]
  },
  {
   "cell_type": "code",
   "execution_count": null,
   "metadata": {
    "collapsed": true
   },
   "outputs": [],
   "source": []
  }
 ],
 "metadata": {
  "kernelspec": {
   "display_name": "Python [python2]",
   "language": "python",
   "name": "Python [python2]"
  },
  "language_info": {
   "codemirror_mode": {
    "name": "ipython",
    "version": 2
   },
   "file_extension": ".py",
   "mimetype": "text/x-python",
   "name": "python",
   "nbconvert_exporter": "python",
   "pygments_lexer": "ipython2",
   "version": "2.7.14"
  }
 },
 "nbformat": 4,
 "nbformat_minor": 0
}
